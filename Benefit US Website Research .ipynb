{
 "cells": [
  {
   "cell_type": "markdown",
   "metadata": {},
   "source": [
    "### Get price/ item information from https://www.benefitcosmetics.com/en-us/all-makeup"
   ]
  },
  {
   "cell_type": "code",
   "execution_count": 1,
   "metadata": {},
   "outputs": [],
   "source": [
    "import requests\n",
    "import pandas as pd\n",
    "import json"
   ]
  },
  {
   "cell_type": "code",
   "execution_count": 2,
   "metadata": {},
   "outputs": [],
   "source": [
    "r= requests.get('https://www.benefitcosmetics.com/api/en-US/search/?c=1073741985__CatalogContent&size=120')"
   ]
  },
  {
   "cell_type": "code",
   "execution_count": 3,
   "metadata": {},
   "outputs": [],
   "source": [
    "obj=json.loads(r.text)"
   ]
  },
  {
   "cell_type": "code",
   "execution_count": 5,
   "metadata": {},
   "outputs": [
    {
     "name": "stdout",
     "output_type": "stream",
     "text": [
      "No price: POREfect Primer Deal!\n"
     ]
    },
    {
     "data": {
      "text/html": [
       "<div>\n",
       "<style scoped>\n",
       "    .dataframe tbody tr th:only-of-type {\n",
       "        vertical-align: middle;\n",
       "    }\n",
       "\n",
       "    .dataframe tbody tr th {\n",
       "        vertical-align: top;\n",
       "    }\n",
       "\n",
       "    .dataframe thead th {\n",
       "        text-align: right;\n",
       "    }\n",
       "</style>\n",
       "<table border=\"1\" class=\"dataframe\">\n",
       "  <thead>\n",
       "    <tr style=\"text-align: right;\">\n",
       "      <th></th>\n",
       "      <th>Product Name</th>\n",
       "      <th>Retail Price</th>\n",
       "      <th>Sale Price</th>\n",
       "    </tr>\n",
       "  </thead>\n",
       "  <tbody>\n",
       "    <tr>\n",
       "      <th>0</th>\n",
       "      <td>They're Real! Magnet Extreme Lengthening Mascara</td>\n",
       "      <td>27.0</td>\n",
       "      <td>NaN</td>\n",
       "    </tr>\n",
       "    <tr>\n",
       "      <th>1</th>\n",
       "      <td>BADgal BANG! Volumizing Mascara</td>\n",
       "      <td>26.0</td>\n",
       "      <td>NaN</td>\n",
       "    </tr>\n",
       "    <tr>\n",
       "      <th>2</th>\n",
       "      <td>They're Real! Magnet Extreme Lengthening Masca...</td>\n",
       "      <td>15.0</td>\n",
       "      <td>NaN</td>\n",
       "    </tr>\n",
       "    <tr>\n",
       "      <th>3</th>\n",
       "      <td>They're Real! Lengthening Mascara</td>\n",
       "      <td>26.0</td>\n",
       "      <td>NaN</td>\n",
       "    </tr>\n",
       "    <tr>\n",
       "      <th>4</th>\n",
       "      <td>Fouroscope: Earth Angel</td>\n",
       "      <td>36.0</td>\n",
       "      <td>NaN</td>\n",
       "    </tr>\n",
       "    <tr>\n",
       "      <th>...</th>\n",
       "      <td>...</td>\n",
       "      <td>...</td>\n",
       "      <td>...</td>\n",
       "    </tr>\n",
       "    <tr>\n",
       "      <th>114</th>\n",
       "      <td>Hoola Glow Shimmer Bronzer</td>\n",
       "      <td>30.0</td>\n",
       "      <td>NaN</td>\n",
       "    </tr>\n",
       "    <tr>\n",
       "      <th>115</th>\n",
       "      <td>Hoola Contourist Bronze &amp; Contour Palette</td>\n",
       "      <td>32.0</td>\n",
       "      <td>NaN</td>\n",
       "    </tr>\n",
       "    <tr>\n",
       "      <th>116</th>\n",
       "      <td>Playtint Cheek &amp; Lip Stain</td>\n",
       "      <td>18.0</td>\n",
       "      <td>NaN</td>\n",
       "    </tr>\n",
       "    <tr>\n",
       "      <th>117</th>\n",
       "      <td>Let’s Kiss &amp; Hoola Set</td>\n",
       "      <td>34.0</td>\n",
       "      <td>NaN</td>\n",
       "    </tr>\n",
       "    <tr>\n",
       "      <th>118</th>\n",
       "      <td>Gimme Brow+ Volumizing Eyebrow Gel</td>\n",
       "      <td>24.0</td>\n",
       "      <td>NaN</td>\n",
       "    </tr>\n",
       "  </tbody>\n",
       "</table>\n",
       "<p>119 rows × 3 columns</p>\n",
       "</div>"
      ],
      "text/plain": [
       "                                          Product Name  Retail Price  \\\n",
       "0     They're Real! Magnet Extreme Lengthening Mascara          27.0   \n",
       "1                      BADgal BANG! Volumizing Mascara          26.0   \n",
       "2    They're Real! Magnet Extreme Lengthening Masca...          15.0   \n",
       "3                    They're Real! Lengthening Mascara          26.0   \n",
       "4                              Fouroscope: Earth Angel          36.0   \n",
       "..                                                 ...           ...   \n",
       "114                         Hoola Glow Shimmer Bronzer          30.0   \n",
       "115          Hoola Contourist Bronze & Contour Palette          32.0   \n",
       "116                         Playtint Cheek & Lip Stain          18.0   \n",
       "117                             Let’s Kiss & Hoola Set          34.0   \n",
       "118                 Gimme Brow+ Volumizing Eyebrow Gel          24.0   \n",
       "\n",
       "     Sale Price  \n",
       "0           NaN  \n",
       "1           NaN  \n",
       "2           NaN  \n",
       "3           NaN  \n",
       "4           NaN  \n",
       "..          ...  \n",
       "114         NaN  \n",
       "115         NaN  \n",
       "116         NaN  \n",
       "117         NaN  \n",
       "118         NaN  \n",
       "\n",
       "[119 rows x 3 columns]"
      ]
     },
     "execution_count": 5,
     "metadata": {},
     "output_type": "execute_result"
    }
   ],
   "source": [
    "itemlst=[]\n",
    "for i in range(0, 120):\n",
    "    name = obj['entries'][i]['title']  # product name\n",
    "    rPrice = obj['entries'][i]['minRetailPrice'] # retail price\n",
    "    sPrice = obj['entries'][i]['minSalePrice'] # sale price   \n",
    "    \n",
    "    if rPrice is None:\n",
    "        print('No price: '+ name)\n",
    "\n",
    "    else: \n",
    "        if sPrice is None:\n",
    "            itemlst.append({\"Product Name\": name,\n",
    "                            \"Retail Price\":rPrice['value'],\n",
    "                            \"Sale Price\":sPrice})\n",
    "        else:\n",
    "            itemlst.append({\"Product Name\": name,\n",
    "                            \"Retail Price\":rPrice['value'],\n",
    "                            \"Sale Price\":sPrice['value']})\n",
    "            \n",
    "data=pd.DataFrame(itemlst)\n",
    "data"
   ]
  },
  {
   "cell_type": "code",
   "execution_count": 13,
   "metadata": {},
   "outputs": [
    {
     "name": "stdout",
     "output_type": "stream",
     "text": [
      "All item: 120\n",
      "Available item: 119\n",
      "Retail Price: $5.0 ~ $60.0\n",
      "Average Price: $25.97\n",
      "On sale item: 13\n"
     ]
    }
   ],
   "source": [
    "print('All item: ' + str(len(obj['entries'])))\n",
    "print('Available item: ' + str(len(data)))\n",
    "print('Retail Price: $'+ str(data['Retail Price'].min())+' ~ $' + str(data['Retail Price'].max()))\n",
    "print('Average Price: $'+ str(round(data['Retail Price'].mean(), 2)))\n",
    "print('On sale item: '+ str(data['Sale Price'][data['Sale Price'].notnull()].count()))"
   ]
  },
  {
   "cell_type": "code",
   "execution_count": 14,
   "metadata": {},
   "outputs": [
    {
     "name": "stdout",
     "output_type": "stream",
     "text": [
      "count    119.000000\n",
      "mean      25.974790\n",
      "std        9.404707\n",
      "min        5.000000\n",
      "25%       18.000000\n",
      "50%       26.000000\n",
      "75%       32.000000\n",
      "max       60.000000\n",
      "Name: Retail Price, dtype: float64\n"
     ]
    }
   ],
   "source": [
    "print(data['Retail Price'].describe())"
   ]
  }
 ],
 "metadata": {
  "kernelspec": {
   "display_name": "Python 3",
   "language": "python",
   "name": "python3"
  },
  "language_info": {
   "codemirror_mode": {
    "name": "ipython",
    "version": 3
   },
   "file_extension": ".py",
   "mimetype": "text/x-python",
   "name": "python",
   "nbconvert_exporter": "python",
   "pygments_lexer": "ipython3",
   "version": "3.7.7"
  }
 },
 "nbformat": 4,
 "nbformat_minor": 4
}
