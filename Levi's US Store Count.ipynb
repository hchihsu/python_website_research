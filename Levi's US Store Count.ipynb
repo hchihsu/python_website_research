{
 "cells": [
  {
   "cell_type": "code",
   "execution_count": 1,
   "metadata": {},
   "outputs": [],
   "source": [
    "from bs4 import BeautifulSoup\n",
    "import requests\n",
    "import random\n",
    "import time"
   ]
  },
  {
   "cell_type": "code",
   "execution_count": 2,
   "metadata": {},
   "outputs": [],
   "source": [
    "from fake_useragent import UserAgent"
   ]
  },
  {
   "cell_type": "code",
   "execution_count": 3,
   "metadata": {},
   "outputs": [
    {
     "name": "stdout",
     "output_type": "stream",
     "text": [
      "States: 42\n"
     ]
    }
   ],
   "source": [
    "# part1: get states url\n",
    "cityurl=[]\n",
    "stateurl=[]\n",
    "k=0\n",
    "\n",
    "uslocation = requests.get(\"https://locations.levi.com/en-us/\")\n",
    "html_doc = uslocation.text \n",
    "soup = BeautifulSoup(uslocation.text, \"lxml\")\n",
    "states = soup.find_all('a', class_='region-list ga-link')\n",
    "for stt in states:\n",
    "    stateurl.append(stt['href'])\n",
    "print('States:',len(stateurl))"
   ]
  },
  {
   "cell_type": "code",
   "execution_count": 4,
   "metadata": {},
   "outputs": [
    {
     "name": "stdout",
     "output_type": "stream",
     "text": [
      "finish city: https://locations.levi.com/en-us/al/\n",
      "finish city: https://locations.levi.com/en-us/az/\n",
      "finish city: https://locations.levi.com/en-us/ar/\n",
      "finish city: https://locations.levi.com/en-us/ca/\n",
      "finish city: https://locations.levi.com/en-us/co/\n",
      "finish city: https://locations.levi.com/en-us/ct/\n",
      "finish city: https://locations.levi.com/en-us/de/\n",
      "finish city: https://locations.levi.com/en-us/fl/\n",
      "finish city: https://locations.levi.com/en-us/ga/\n",
      "finish city: https://locations.levi.com/en-us/hi/\n",
      "finish city: https://locations.levi.com/en-us/il/\n",
      "finish city: https://locations.levi.com/en-us/in/\n",
      "finish city: https://locations.levi.com/en-us/ia/\n",
      "finish city: https://locations.levi.com/en-us/ks/\n",
      "finish city: https://locations.levi.com/en-us/ky/\n",
      "finish city: https://locations.levi.com/en-us/la/\n",
      "finish city: https://locations.levi.com/en-us/me/\n",
      "finish city: https://locations.levi.com/en-us/md/\n",
      "finish city: https://locations.levi.com/en-us/ma/\n",
      "finish city: https://locations.levi.com/en-us/mi/\n",
      "finish city: https://locations.levi.com/en-us/mn/\n",
      "finish city: https://locations.levi.com/en-us/ms/\n",
      "finish city: https://locations.levi.com/en-us/mo/\n",
      "finish city: https://locations.levi.com/en-us/ne/\n",
      "finish city: https://locations.levi.com/en-us/nv/\n",
      "finish city: https://locations.levi.com/en-us/nh/\n",
      "finish city: https://locations.levi.com/en-us/nj/\n",
      "finish city: https://locations.levi.com/en-us/nm/\n",
      "finish city: https://locations.levi.com/en-us/ny/\n",
      "finish city: https://locations.levi.com/en-us/nc/\n",
      "finish city: https://locations.levi.com/en-us/oh/\n",
      "finish city: https://locations.levi.com/en-us/ok/\n",
      "finish city: https://locations.levi.com/en-us/or/\n",
      "finish city: https://locations.levi.com/en-us/pa/\n",
      "finish city: https://locations.levi.com/en-us/sc/\n",
      "finish city: https://locations.levi.com/en-us/tn/\n",
      "finish city: https://locations.levi.com/en-us/tx/\n",
      "finish city: https://locations.levi.com/en-us/ut/\n",
      "finish city: https://locations.levi.com/en-us/va/\n",
      "finish city: https://locations.levi.com/en-us/wa/\n",
      "finish city: https://locations.levi.com/en-us/wi/\n",
      "finish city: https://locations.levi.com/en-us/wy/\n",
      "Cities: 194\n"
     ]
    }
   ],
   "source": [
    "# part2 get cities url\n",
    "for i in stateurl:\n",
    "    delay_choices = [2.3, 1.9, 2.4, 3.1, 2.9, 2.2]\n",
    "    delay = random.choice(delay_choices)  \n",
    "    time.sleep(delay)\n",
    "    \n",
    "    user_agent = UserAgent()\n",
    "    eachstate = requests.get(i, headers={ 'user-agent': user_agent.random })\n",
    "    soup = BeautifulSoup(eachstate.text, \"lxml\")\n",
    "    ecity=soup.select('a.city-list')\n",
    "    for m in ecity:\n",
    "        cityurl.append(m['href'])\n",
    "    print('finish city:',i)\n",
    "print('Cities:',len(cityurl))        "
   ]
  },
  {
   "cell_type": "code",
   "execution_count": 5,
   "metadata": {},
   "outputs": [
    {
     "name": "stdout",
     "output_type": "stream",
     "text": [
      "Stores: 227\n"
     ]
    }
   ],
   "source": [
    "# part3: get into each city & count stores\n",
    "for j in cityurl:\n",
    "    delay_choices = [1.7, 1.8, 2.4, 2.5, 2.9, 2.2, 2.1]\n",
    "    delay = random.choice(delay_choices)\n",
    "    time.sleep(delay)\n",
    "    eachstore = requests.get(j, headers={ 'user-agent': user_agent.random })\n",
    "    soup = BeautifulSoup(eachstore.text, \"lxml\")\n",
    "    stores=soup.select('div.col-12.border-top.pt-5 a.phone.other-link.ga-link')\n",
    "    k=k+len(stores)\n",
    "#     print('k=',k)\n",
    "print('Stores:',k)"
   ]
  }
 ],
 "metadata": {
  "kernelspec": {
   "display_name": "Python 3",
   "language": "python",
   "name": "python3"
  },
  "language_info": {
   "codemirror_mode": {
    "name": "ipython",
    "version": 3
   },
   "file_extension": ".py",
   "mimetype": "text/x-python",
   "name": "python",
   "nbconvert_exporter": "python",
   "pygments_lexer": "ipython3",
   "version": "3.7.7"
  }
 },
 "nbformat": 4,
 "nbformat_minor": 4
}
